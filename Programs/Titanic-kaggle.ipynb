{
  "nbformat": 4,
  "nbformat_minor": 0,
  "metadata": {
    "colab": {
      "name": "ml-practice.ipynb",
      "provenance": [],
      "collapsed_sections": []
    },
    "kernelspec": {
      "name": "python3",
      "display_name": "Python 3"
    }
  },
  "cells": [
    {
      "cell_type": "markdown",
      "metadata": {
        "id": "y0uU2aS_b00I",
        "colab_type": "text"
      },
      "source": [
        "# Analysing The Titanic Dataset for Learning Purpose"
      ]
    },
    {
      "cell_type": "code",
      "metadata": {
        "id": "HY6rP2hCfvfQ",
        "colab_type": "code",
        "colab": {}
      },
      "source": [
        "# import the required libraries\n",
        "import pandas as pd\n",
        "import seaborn as sns\n",
        "import numpy as np\n",
        "import matplotlib.pyplot as plt"
      ],
      "execution_count": 0,
      "outputs": []
    },
    {
      "cell_type": "code",
      "metadata": {
        "id": "sq4IynJvcsvq",
        "colab_type": "code",
        "outputId": "3ed7d431-00ef-4f91-8f90-43d1221c7d6f",
        "colab": {
          "base_uri": "https://localhost:8080/",
          "height": 204
        }
      },
      "source": [
        "# importing the dataset\n",
        "df_train = pd.read_csv('train.csv')\n",
        "df_test = pd.read_csv('test.csv')\n",
        "df_train.head()"
      ],
      "execution_count": 12,
      "outputs": [
        {
          "output_type": "execute_result",
          "data": {
            "text/html": [
              "<div>\n",
              "<style scoped>\n",
              "    .dataframe tbody tr th:only-of-type {\n",
              "        vertical-align: middle;\n",
              "    }\n",
              "\n",
              "    .dataframe tbody tr th {\n",
              "        vertical-align: top;\n",
              "    }\n",
              "\n",
              "    .dataframe thead th {\n",
              "        text-align: right;\n",
              "    }\n",
              "</style>\n",
              "<table border=\"1\" class=\"dataframe\">\n",
              "  <thead>\n",
              "    <tr style=\"text-align: right;\">\n",
              "      <th></th>\n",
              "      <th>PassengerId</th>\n",
              "      <th>Survived</th>\n",
              "      <th>Pclass</th>\n",
              "      <th>Name</th>\n",
              "      <th>Sex</th>\n",
              "      <th>Age</th>\n",
              "      <th>SibSp</th>\n",
              "      <th>Parch</th>\n",
              "      <th>Ticket</th>\n",
              "      <th>Fare</th>\n",
              "      <th>Cabin</th>\n",
              "      <th>Embarked</th>\n",
              "    </tr>\n",
              "  </thead>\n",
              "  <tbody>\n",
              "    <tr>\n",
              "      <th>0</th>\n",
              "      <td>1</td>\n",
              "      <td>0</td>\n",
              "      <td>3</td>\n",
              "      <td>Braund, Mr. Owen Harris</td>\n",
              "      <td>male</td>\n",
              "      <td>22.0</td>\n",
              "      <td>1</td>\n",
              "      <td>0</td>\n",
              "      <td>A/5 21171</td>\n",
              "      <td>7.2500</td>\n",
              "      <td>NaN</td>\n",
              "      <td>S</td>\n",
              "    </tr>\n",
              "    <tr>\n",
              "      <th>1</th>\n",
              "      <td>2</td>\n",
              "      <td>1</td>\n",
              "      <td>1</td>\n",
              "      <td>Cumings, Mrs. John Bradley (Florence Briggs Th...</td>\n",
              "      <td>female</td>\n",
              "      <td>38.0</td>\n",
              "      <td>1</td>\n",
              "      <td>0</td>\n",
              "      <td>PC 17599</td>\n",
              "      <td>71.2833</td>\n",
              "      <td>C85</td>\n",
              "      <td>C</td>\n",
              "    </tr>\n",
              "    <tr>\n",
              "      <th>2</th>\n",
              "      <td>3</td>\n",
              "      <td>1</td>\n",
              "      <td>3</td>\n",
              "      <td>Heikkinen, Miss. Laina</td>\n",
              "      <td>female</td>\n",
              "      <td>26.0</td>\n",
              "      <td>0</td>\n",
              "      <td>0</td>\n",
              "      <td>STON/O2. 3101282</td>\n",
              "      <td>7.9250</td>\n",
              "      <td>NaN</td>\n",
              "      <td>S</td>\n",
              "    </tr>\n",
              "    <tr>\n",
              "      <th>3</th>\n",
              "      <td>4</td>\n",
              "      <td>1</td>\n",
              "      <td>1</td>\n",
              "      <td>Futrelle, Mrs. Jacques Heath (Lily May Peel)</td>\n",
              "      <td>female</td>\n",
              "      <td>35.0</td>\n",
              "      <td>1</td>\n",
              "      <td>0</td>\n",
              "      <td>113803</td>\n",
              "      <td>53.1000</td>\n",
              "      <td>C123</td>\n",
              "      <td>S</td>\n",
              "    </tr>\n",
              "    <tr>\n",
              "      <th>4</th>\n",
              "      <td>5</td>\n",
              "      <td>0</td>\n",
              "      <td>3</td>\n",
              "      <td>Allen, Mr. William Henry</td>\n",
              "      <td>male</td>\n",
              "      <td>35.0</td>\n",
              "      <td>0</td>\n",
              "      <td>0</td>\n",
              "      <td>373450</td>\n",
              "      <td>8.0500</td>\n",
              "      <td>NaN</td>\n",
              "      <td>S</td>\n",
              "    </tr>\n",
              "  </tbody>\n",
              "</table>\n",
              "</div>"
            ],
            "text/plain": [
              "   PassengerId  Survived  Pclass  ...     Fare Cabin  Embarked\n",
              "0            1         0       3  ...   7.2500   NaN         S\n",
              "1            2         1       1  ...  71.2833   C85         C\n",
              "2            3         1       3  ...   7.9250   NaN         S\n",
              "3            4         1       1  ...  53.1000  C123         S\n",
              "4            5         0       3  ...   8.0500   NaN         S\n",
              "\n",
              "[5 rows x 12 columns]"
            ]
          },
          "metadata": {
            "tags": []
          },
          "execution_count": 12
        }
      ]
    },
    {
      "cell_type": "code",
      "metadata": {
        "id": "gAmJcOX2f_hH",
        "colab_type": "code",
        "colab": {}
      },
      "source": [
        "# changing factors to int class in both train and test set\n",
        "df_train['Sex'] = df_train['Sex'].replace(['male', 'female'], [0,1])\n",
        "df_test['Sex'] = df_test['Sex'].replace(['male', 'female'], [0,1])\n",
        "df_train['Embarked'] = df_train['Embarked'].replace(['S','C','Q'], [0,1,2])\n",
        "df_test['Embarked'] = df_test['Embarked'].replace(['S','C','Q'], [0,1,2])"
      ],
      "execution_count": 0,
      "outputs": []
    },
    {
      "cell_type": "code",
      "metadata": {
        "id": "FxagK4wsdjLy",
        "colab_type": "code",
        "colab": {
          "base_uri": "https://localhost:8080/",
          "height": 85
        },
        "outputId": "169520d1-f645-4257-9cdc-ac5f4a3e6313"
      },
      "source": [
        "# Dropping the NaN Values in both the sets\n",
        "print('The length of training set before dropping NaN rows:',len(df_train))\n",
        "print('The length of test set before dropping NaN rows:',len(df_test))\n",
        "df_train.dropna(axis=0,how = 'any', inplace=True)\n",
        "df_test.dropna(axis=0, how='any', inplace=True)\n",
        "print('The length of training set after dropping:', len(df_train))\n",
        "print('The length of test set after dropping:', len(df_test))"
      ],
      "execution_count": 14,
      "outputs": [
        {
          "output_type": "stream",
          "text": [
            "The length of training set before dropping NaN rows: 891\n",
            "The length of test set before dropping NaN rows: 418\n",
            "The length of training set after dropping: 183\n",
            "The length of test set after dropping: 87\n"
          ],
          "name": "stdout"
        }
      ]
    },
    {
      "cell_type": "code",
      "metadata": {
        "id": "60wcsp9ekoYJ",
        "colab_type": "code",
        "colab": {}
      },
      "source": [
        "# first method to classify we use Decision Tree\n",
        "from sklearn.model_selection import train_test_split\n",
        "from sklearn.preprocessing import StandardScaler\n",
        "from sklearn import tree"
      ],
      "execution_count": 0,
      "outputs": []
    },
    {
      "cell_type": "code",
      "metadata": {
        "id": "PObS7ygMyMs-",
        "colab_type": "code",
        "outputId": "654f72bb-e639-40b1-b5c9-01856f3ee2f4",
        "colab": {
          "base_uri": "https://localhost:8080/",
          "height": 204
        }
      },
      "source": [
        "df_test.head()"
      ],
      "execution_count": 17,
      "outputs": [
        {
          "output_type": "execute_result",
          "data": {
            "text/html": [
              "<div>\n",
              "<style scoped>\n",
              "    .dataframe tbody tr th:only-of-type {\n",
              "        vertical-align: middle;\n",
              "    }\n",
              "\n",
              "    .dataframe tbody tr th {\n",
              "        vertical-align: top;\n",
              "    }\n",
              "\n",
              "    .dataframe thead th {\n",
              "        text-align: right;\n",
              "    }\n",
              "</style>\n",
              "<table border=\"1\" class=\"dataframe\">\n",
              "  <thead>\n",
              "    <tr style=\"text-align: right;\">\n",
              "      <th></th>\n",
              "      <th>PassengerId</th>\n",
              "      <th>Pclass</th>\n",
              "      <th>Name</th>\n",
              "      <th>Sex</th>\n",
              "      <th>Age</th>\n",
              "      <th>SibSp</th>\n",
              "      <th>Parch</th>\n",
              "      <th>Ticket</th>\n",
              "      <th>Fare</th>\n",
              "      <th>Cabin</th>\n",
              "      <th>Embarked</th>\n",
              "    </tr>\n",
              "  </thead>\n",
              "  <tbody>\n",
              "    <tr>\n",
              "      <th>12</th>\n",
              "      <td>904</td>\n",
              "      <td>1</td>\n",
              "      <td>Snyder, Mrs. John Pillsbury (Nelle Stevenson)</td>\n",
              "      <td>1</td>\n",
              "      <td>23.0</td>\n",
              "      <td>1</td>\n",
              "      <td>0</td>\n",
              "      <td>21228</td>\n",
              "      <td>82.2667</td>\n",
              "      <td>B45</td>\n",
              "      <td>0</td>\n",
              "    </tr>\n",
              "    <tr>\n",
              "      <th>14</th>\n",
              "      <td>906</td>\n",
              "      <td>1</td>\n",
              "      <td>Chaffee, Mrs. Herbert Fuller (Carrie Constance...</td>\n",
              "      <td>1</td>\n",
              "      <td>47.0</td>\n",
              "      <td>1</td>\n",
              "      <td>0</td>\n",
              "      <td>W.E.P. 5734</td>\n",
              "      <td>61.1750</td>\n",
              "      <td>E31</td>\n",
              "      <td>0</td>\n",
              "    </tr>\n",
              "    <tr>\n",
              "      <th>24</th>\n",
              "      <td>916</td>\n",
              "      <td>1</td>\n",
              "      <td>Ryerson, Mrs. Arthur Larned (Emily Maria Borie)</td>\n",
              "      <td>1</td>\n",
              "      <td>48.0</td>\n",
              "      <td>1</td>\n",
              "      <td>3</td>\n",
              "      <td>PC 17608</td>\n",
              "      <td>262.3750</td>\n",
              "      <td>B57 B59 B63 B66</td>\n",
              "      <td>1</td>\n",
              "    </tr>\n",
              "    <tr>\n",
              "      <th>26</th>\n",
              "      <td>918</td>\n",
              "      <td>1</td>\n",
              "      <td>Ostby, Miss. Helene Ragnhild</td>\n",
              "      <td>1</td>\n",
              "      <td>22.0</td>\n",
              "      <td>0</td>\n",
              "      <td>1</td>\n",
              "      <td>113509</td>\n",
              "      <td>61.9792</td>\n",
              "      <td>B36</td>\n",
              "      <td>1</td>\n",
              "    </tr>\n",
              "    <tr>\n",
              "      <th>28</th>\n",
              "      <td>920</td>\n",
              "      <td>1</td>\n",
              "      <td>Brady, Mr. John Bertram</td>\n",
              "      <td>0</td>\n",
              "      <td>41.0</td>\n",
              "      <td>0</td>\n",
              "      <td>0</td>\n",
              "      <td>113054</td>\n",
              "      <td>30.5000</td>\n",
              "      <td>A21</td>\n",
              "      <td>0</td>\n",
              "    </tr>\n",
              "  </tbody>\n",
              "</table>\n",
              "</div>"
            ],
            "text/plain": [
              "    PassengerId  Pclass  ...            Cabin  Embarked\n",
              "12          904       1  ...              B45         0\n",
              "14          906       1  ...              E31         0\n",
              "24          916       1  ...  B57 B59 B63 B66         1\n",
              "26          918       1  ...              B36         1\n",
              "28          920       1  ...              A21         0\n",
              "\n",
              "[5 rows x 11 columns]"
            ]
          },
          "metadata": {
            "tags": []
          },
          "execution_count": 17
        }
      ]
    },
    {
      "cell_type": "code",
      "metadata": {
        "id": "kuUtt0HmrOVo",
        "colab_type": "code",
        "colab": {}
      },
      "source": [
        "# doing feature selection manually\n",
        "X = df_train.iloc[:, [2,4,5,6,7,9,11]]\n",
        "x_real_test = df_test.iloc[:, [1,3,4,5,6,8,10]]\n",
        "y = df_train.iloc[:, 1]\n",
        "y_real_test = df_test.iloc[:, 1]"
      ],
      "execution_count": 0,
      "outputs": []
    },
    {
      "cell_type": "code",
      "metadata": {
        "id": "2cgGnF__wFos",
        "colab_type": "code",
        "colab": {}
      },
      "source": [
        "# taking the max_depth as 4 to avoid over-fitting if occurs\n",
        "clf = tree.DecisionTreeClassifier(criterion='entropy',max_depth=4)\n",
        "clf = clf.fit(X, y)"
      ],
      "execution_count": 0,
      "outputs": []
    },
    {
      "cell_type": "code",
      "metadata": {
        "id": "TosKR97XwSoU",
        "colab_type": "code",
        "colab": {}
      },
      "source": [
        "y_pred = clf.predict(x_real_test)"
      ],
      "execution_count": 0,
      "outputs": []
    },
    {
      "cell_type": "code",
      "metadata": {
        "id": "R76sy24CxeNl",
        "colab_type": "code",
        "outputId": "6113bd98-91d9-49e7-d21f-1ecc65361f5b",
        "colab": {
          "base_uri": "https://localhost:8080/",
          "height": 34
        }
      },
      "source": [
        "# using accuracy_score function to find the accuracy of the model\n",
        "from sklearn.metrics import accuracy_score\n",
        "print('The accuracy of the Decision tree model:',accuracy_score(y_real_test, y_pred))"
      ],
      "execution_count": 54,
      "outputs": [
        {
          "output_type": "stream",
          "text": [
            "The accuracy of the Decision tree model: 0.7011494252873564\n"
          ],
          "name": "stdout"
        }
      ]
    },
    {
      "cell_type": "code",
      "metadata": {
        "id": "X1piXbS7fppH",
        "colab_type": "code",
        "colab": {}
      },
      "source": [
        "# Now doing it with knn\n",
        "from sklearn.neighbors import KNeighborsClassifier"
      ],
      "execution_count": 0,
      "outputs": []
    },
    {
      "cell_type": "code",
      "metadata": {
        "id": "9CLWTr5pf3e5",
        "colab_type": "code",
        "colab": {}
      },
      "source": [
        "# calculated as the square root of the length of the training dataset after processing\n",
        "clf_knn = KNeighborsClassifier(n_neighbors=13)\n",
        "clf_knn = clf_knn.fit(X,y)"
      ],
      "execution_count": 0,
      "outputs": []
    },
    {
      "cell_type": "code",
      "metadata": {
        "id": "Pi3wF02IgJST",
        "colab_type": "code",
        "colab": {}
      },
      "source": [
        "y_pred_knn = clf_knn.predict(x_real_test)"
      ],
      "execution_count": 0,
      "outputs": []
    },
    {
      "cell_type": "code",
      "metadata": {
        "id": "mUglYvANgPVX",
        "colab_type": "code",
        "colab": {
          "base_uri": "https://localhost:8080/",
          "height": 34
        },
        "outputId": "69478e69-8820-4b75-dc23-ff061f204351"
      },
      "source": [
        "print('The accuracy of the KNN model:',accuracy_score(y_real_test, y_pred_knn))"
      ],
      "execution_count": 55,
      "outputs": [
        {
          "output_type": "stream",
          "text": [
            "The accuracy of the KNN model: 0.8390804597701149\n"
          ],
          "name": "stdout"
        }
      ]
    },
    {
      "cell_type": "code",
      "metadata": {
        "id": "Q-IchTe9jGTu",
        "colab_type": "code",
        "colab": {}
      },
      "source": [
        "# using svm \n",
        "from sklearn.svm import SVC\n",
        "clf_svm = SVC(gamma='scale')\n",
        "clf_svm = clf_svm.fit(X, y)"
      ],
      "execution_count": 0,
      "outputs": []
    },
    {
      "cell_type": "code",
      "metadata": {
        "id": "Jg69C5-2kF_O",
        "colab_type": "code",
        "colab": {}
      },
      "source": [
        "y_pred_svm = clf_svm.predict(x_real_test)"
      ],
      "execution_count": 0,
      "outputs": []
    },
    {
      "cell_type": "code",
      "metadata": {
        "id": "gy_qtOOIkLq-",
        "colab_type": "code",
        "colab": {
          "base_uri": "https://localhost:8080/",
          "height": 34
        },
        "outputId": "cff11d1a-8aeb-40c2-d6e6-1e5fa978e183"
      },
      "source": [
        "print('The accuracy of the SVM model:',accuracy_score(y_real_test, y_pred_svm))"
      ],
      "execution_count": 56,
      "outputs": [
        {
          "output_type": "stream",
          "text": [
            "The accuracy of the SVM model: 0.896551724137931\n"
          ],
          "name": "stdout"
        }
      ]
    }
  ]
}